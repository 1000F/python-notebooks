{
 "cells": [
  {
   "cell_type": "markdown",
   "metadata": {},
   "source": [
    "**Stepwise processor pattern from Mahmoud Hashemi's Enterprise Software with Python course.**\n",
    "\n",
    "Python3 version of Mahmoud Hashemi's Wikipedia topic summarizer\n",
    "\n",
    "References:\n",
    "\n",
    "https://github.com/mahmoud/espymetrics/blob/d4754e597a2f483e2e0b1c3efc8694774227f907/notebooks/stepwise_demo.ipynb\n",
    "https://www.safaribooksonline.com/library/view/enterprise-software-with/9781491943755/video239885.html"
   ]
  },
  {
   "cell_type": "code",
   "execution_count": 240,
   "metadata": {},
   "outputs": [],
   "source": [
    "import json\n",
    "from urllib.request import urlopen\n",
    "\n",
    "from IPython.display import Image"
   ]
  },
  {
   "cell_type": "code",
   "execution_count": 241,
   "metadata": {},
   "outputs": [],
   "source": [
    "class TopicSummarizer(object):\n",
    "    \"\"\"\n",
    "    Our stepwise processor that uses Wikipedia to summarize topics.\n",
    "    \n",
    "    Just instantiate with the topic name, call .process(), and get_results()\n",
    "    \"\"\"\n",
    "    \n",
    "    def __init__(self, topic):\n",
    "        self.topic = topic\n",
    "        \n",
    "    def process(self):\n",
    "        self._fetch_text()\n",
    "        self._fetch_thumbnail()\n",
    "        return self\n",
    "    \n",
    "    def get_results(self, as_text=False):\n",
    "        if as_text:\n",
    "            return self.topic + ' summary:' + self._text\n",
    "        return TopicSummary(self.topic, self._thumb_url, self._text)\n",
    "    \n",
    "    def _fetch_text(self):\n",
    "        self._text_api_url = TEXT_URL_TMPL.format(title=self.topic)\n",
    "        self._text_resp = self._get_url_json(self._text_api_url)\n",
    "        self._text = list(self._text_resp['query']['pages'].values())[0]['extract']\n",
    "        \n",
    "    def _fetch_thumbnail(self):\n",
    "        self._thumb_api_url = THUMB_URL_TMPL.format(title=self.topic)\n",
    "        self._thumb_resp = self._get_url_json(self._thumb_api_url)\n",
    "        self._thumb_url = list(self._thumb_resp['query']['pages'].values())[0]['thumbnail']['source']\n",
    "        \n",
    "    def _get_url_json(self, url):\n",
    "        resp = urlopen(url)\n",
    "        resp_body = resp.read().decode('utf8')\n",
    "        return json.loads(resp_body)\n",
    "\n",
    "class TopicSummary(object):\n",
    "    def __init__(self, topic, thumb_url, text):\n",
    "        self.topic = topic\n",
    "        self.thumb_url = thumb_url\n",
    "        self.text = text\n",
    "        \n",
    "    def __repr__(self):\n",
    "        cn = self.__class__.__name__\n",
    "        return '%s(%r, %r, %r)' % (cn, self.topic, self.thumb_url, self.text)\n",
    "    \n",
    "TEXT_URL_TMPL = 'https://en.wikipedia.org/w/api.php?action=query&prop=extracts&exsentences=2&titles={title}&explaintext=1&exintro=1&format=json'\n",
    "THUMB_URL_TMPL = 'https://en.wikipedia.org/w/api.php?action=query&prop=pageimages&titles={title}&format=json'"
   ]
  },
  {
   "cell_type": "code",
   "execution_count": 242,
   "metadata": {},
   "outputs": [
    {
     "name": "stdout",
     "output_type": "stream",
     "text": [
      "TopicSummary('Coffee', 'https://upload.wikimedia.org/wikipedia/commons/thumb/4/45/A_small_cup_of_coffee.JPG/50px-A_small_cup_of_coffee.JPG', 'Coffee is a brewed drink prepared from roasted coffee beans, which are the seeds of berries from the Coffea plant. The genus Coffea is native to tropical Africa, and Madagascar, the Comoros, Mauritius and Réunion in the Indian Ocean.')\n"
     ]
    }
   ],
   "source": [
    "# Demonstration of the summarizer\n",
    "\n",
    "summarizer = TopicSummarizer('Coffee')\n",
    "summarizer.process()\n",
    "summary = summarizer.get_results()\n",
    "print(summary)"
   ]
  },
  {
   "cell_type": "code",
   "execution_count": 243,
   "metadata": {},
   "outputs": [
    {
     "name": "stdout",
     "output_type": "stream",
     "text": [
      "Coffee is a brewed drink prepared from roasted coffee beans, which are the seeds of berries from the Coffea plant. The genus Coffea is native to tropical Africa, and Madagascar, the Comoros, Mauritius and Réunion in the Indian Ocean.\n"
     ]
    },
    {
     "data": {
      "text/html": [
       "<img src=\"https://upload.wikimedia.org/wikipedia/commons/thumb/4/45/A_small_cup_of_coffee.JPG/50px-A_small_cup_of_coffee.JPG\"/>"
      ],
      "text/plain": [
       "<IPython.core.display.Image object>"
      ]
     },
     "execution_count": 243,
     "metadata": {},
     "output_type": "execute_result"
    }
   ],
   "source": [
    "print(summary.text)\n",
    "Image(url=summary.thumb_url)"
   ]
  },
  {
   "cell_type": "code",
   "execution_count": 244,
   "metadata": {},
   "outputs": [
    {
     "name": "stdout",
     "output_type": "stream",
     "text": [
      "Coffee summary:Coffee is a brewed drink prepared from roasted coffee beans, which are the seeds of berries from the Coffea plant. The genus Coffea is native to tropical Africa, and Madagascar, the Comoros, Mauritius and Réunion in the Indian Ocean.\n"
     ]
    }
   ],
   "source": [
    "print(summarizer.get_results(as_text=True))"
   ]
  },
  {
   "cell_type": "code",
   "execution_count": 239,
   "metadata": {},
   "outputs": [
    {
     "data": {
      "text/plain": [
       "{'_text': 'Coffee is a brewed drink prepared from roasted coffee beans, which are the seeds of berries from the Coffea plant. The genus Coffea is native to tropical Africa, and Madagascar, the Comoros, Mauritius and Réunion in the Indian Ocean.',\n",
       " '_text_api_url': 'https://en.wikipedia.org/w/api.php?action=query&prop=extracts&exsentences=2&titles=Coffee&explaintext=1&exintro=1&format=json',\n",
       " '_text_resp': {'batchcomplete': '',\n",
       "  'query': {'pages': {'604727': {'extract': 'Coffee is a brewed drink prepared from roasted coffee beans, which are the seeds of berries from the Coffea plant. The genus Coffea is native to tropical Africa, and Madagascar, the Comoros, Mauritius and Réunion in the Indian Ocean.',\n",
       "     'ns': 0,\n",
       "     'pageid': 604727,\n",
       "     'title': 'Coffee'}}}},\n",
       " '_thumb_api_url': 'https://en.wikipedia.org/w/api.php?action=query&prop=pageimages&titles=Coffee&format=json',\n",
       " '_thumb_resp': {'batchcomplete': '',\n",
       "  'query': {'pages': {'604727': {'ns': 0,\n",
       "     'pageid': 604727,\n",
       "     'pageimage': 'A_small_cup_of_coffee.JPG',\n",
       "     'thumbnail': {'height': 38,\n",
       "      'source': 'https://upload.wikimedia.org/wikipedia/commons/thumb/4/45/A_small_cup_of_coffee.JPG/50px-A_small_cup_of_coffee.JPG',\n",
       "      'width': 50},\n",
       "     'title': 'Coffee'}}}},\n",
       " '_thumb_url': 'https://upload.wikimedia.org/wikipedia/commons/thumb/4/45/A_small_cup_of_coffee.JPG/50px-A_small_cup_of_coffee.JPG',\n",
       " 'topic': 'Coffee'}"
      ]
     },
     "execution_count": 239,
     "metadata": {},
     "output_type": "execute_result"
    }
   ],
   "source": [
    "# Introspection of the summarizer\n",
    "\n",
    "summarizer.__dict__"
   ]
  },
  {
   "cell_type": "code",
   "execution_count": null,
   "metadata": {
    "collapsed": true
   },
   "outputs": [],
   "source": []
  }
 ],
 "metadata": {
  "kernelspec": {
   "display_name": "Python 3",
   "language": "python",
   "name": "python3"
  },
  "language_info": {
   "codemirror_mode": {
    "name": "ipython",
    "version": 3
   },
   "file_extension": ".py",
   "mimetype": "text/x-python",
   "name": "python",
   "nbconvert_exporter": "python",
   "pygments_lexer": "ipython3",
   "version": "3.5.3"
  }
 },
 "nbformat": 4,
 "nbformat_minor": 2
}
