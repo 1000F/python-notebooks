{
 "cells": [
  {
   "cell_type": "markdown",
   "metadata": {},
   "source": [
    "**Demonstration of using simpy to simulate read receipts for\n",
    "messages broadcast to 10 recipients.**\n",
    "\n",
    "Messages are queued, sent, received and then read.\n",
    "\n",
    "At each stage there is a random delay time.\n",
    "\n",
    "Output is a json stream of {userid, timestamp, message status}\n",
    "\n",
    "**Simpy idea**: Processes are represented by Python generators.\n",
    "\n",
    "Docs: https://simpy.readthedocs.io/en/latest/\n",
    "Simpy tutorial: https://www.youtube.com/watch?v=WHhJJxakIO4"
   ]
  },
  {
   "cell_type": "code",
   "execution_count": 1,
   "metadata": {
    "collapsed": true
   },
   "outputs": [],
   "source": [
    "import numpy as np\n",
    "import json\n",
    "\n",
    "# import simpy.rt # Uses 'real time' wall clock time. This won't work in a Jupyter notebook.\n",
    "# env = simpy.rt.RealtimeEnvironment()\n",
    "\n",
    "import simpy\n",
    "env = simpy.Environment()"
   ]
  },
  {
   "cell_type": "code",
   "execution_count": 2,
   "metadata": {
    "collapsed": true
   },
   "outputs": [],
   "source": [
    "# Simulation parameters\n",
    "\n",
    "NUM_RECIPIENTS = 10\n",
    "\n",
    "SIM_DURATION = 1000\n",
    "\n",
    "MIN_QUEUE_TIME = 1\n",
    "MAX_QUEUE_TIME = 10\n",
    "\n",
    "MIN_DELIVERY_TIME = 1\n",
    "MAX_DELIVERY_TIME = 50\n",
    "\n",
    "MIN_READ_TIME = 5\n",
    "MAX_READ_TIME = 600"
   ]
  },
  {
   "cell_type": "code",
   "execution_count": 3,
   "metadata": {
    "collapsed": true
   },
   "outputs": [],
   "source": [
    "def get_outdict(time, userid, status):\n",
    "    return {'time': time, 'userid': userid, 'Status': status}\n",
    "\n",
    "def message_status(env, userid):\n",
    "    outdict = get_outdict(env.now, userid, 'Queued')\n",
    "    print(json.dumps(outdict))\n",
    "    \n",
    "    yield env.timeout(np.random.uniform(low=MIN_QUEUE_TIME,\n",
    "                                        high=MAX_QUEUE_TIME))\n",
    "\n",
    "    outdict = get_outdict(env.now, userid, 'Sent')\n",
    "    print(json.dumps(outdict))\n",
    "    \n",
    "    yield env.timeout(np.random.uniform(low=MIN_DELIVERY_TIME,\n",
    "                                        high=MAX_DELIVERY_TIME))\n",
    "\n",
    "    outdict = get_outdict(env.now, userid, 'Delivered')\n",
    "    print(json.dumps(outdict))\n",
    "    \n",
    "    yield env.timeout(np.random.uniform(low=MIN_READ_TIME,\n",
    "                                        high=MAX_READ_TIME))\n",
    "\n",
    "    outdict = get_outdict(env.now, userid, 'Read')\n",
    "    print(json.dumps(outdict))"
   ]
  },
  {
   "cell_type": "code",
   "execution_count": null,
   "metadata": {},
   "outputs": [],
   "source": [
    "# Setup and start the simulation\n",
    "\n",
    "for userid in range(1, NUM_RECIPIENTS):\n",
    "    message = message_status(env, userid)\n",
    "    env.process(message)\n",
    "\n",
    "env.run(until=SIM_DURATION)"
   ]
  },
  {
   "cell_type": "code",
   "execution_count": null,
   "metadata": {
    "collapsed": true
   },
   "outputs": [],
   "source": []
  }
 ],
 "metadata": {
  "kernelspec": {
   "display_name": "Python 3",
   "language": "python",
   "name": "python3"
  },
  "language_info": {
   "codemirror_mode": {
    "name": "ipython",
    "version": 3
   },
   "file_extension": ".py",
   "mimetype": "text/x-python",
   "name": "python",
   "nbconvert_exporter": "python",
   "pygments_lexer": "ipython3",
   "version": "3.5.3"
  }
 },
 "nbformat": 4,
 "nbformat_minor": 2
}
