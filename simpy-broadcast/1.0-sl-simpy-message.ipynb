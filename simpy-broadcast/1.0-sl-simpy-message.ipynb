{
 "cells": [
  {
   "cell_type": "markdown",
   "metadata": {},
   "source": [
    "**Demonstration of using simpy to simulate read receipts for\n",
    "messages broadcast to 10 recipients.**\n",
    "\n",
    "Messages are queued, sent, received and then read.\n",
    "\n",
    "At each stage there is a random delay time.\n",
    "\n",
    "Output is a json stream of {userid, timestamp, message status}\n",
    "\n",
    "**Simpy idea**: Processes are represented by Python generators.\n",
    "\n",
    "Docs: https://simpy.readthedocs.io/en/latest/\n",
    "Simpy tutorial: https://www.youtube.com/watch?v=WHhJJxakIO4"
   ]
  },
  {
   "cell_type": "code",
   "execution_count": 1,
   "metadata": {
    "collapsed": true
   },
   "outputs": [],
   "source": [
    "import numpy as np\n",
    "import json\n",
    "\n",
    "# import simpy.rt # Uses 'real time' wall clock time. This won't work in a Jupyter notebook.\n",
    "# env = simpy.rt.RealtimeEnvironment()\n",
    "\n",
    "import simpy\n",
    "env = simpy.Environment()"
   ]
  },
  {
   "cell_type": "code",
   "execution_count": 2,
   "metadata": {
    "collapsed": true
   },
   "outputs": [],
   "source": [
    "# Simulation parameters\n",
    "\n",
    "NUM_RECIPIENTS = 10\n",
    "\n",
    "SIM_DURATION = 1000\n",
    "\n",
    "MIN_QUEUE_TIME = 1\n",
    "MAX_QUEUE_TIME = 10\n",
    "\n",
    "MIN_DELIVERY_TIME = 1\n",
    "MAX_DELIVERY_TIME = 50\n",
    "\n",
    "MIN_READ_TIME = 5\n",
    "MAX_READ_TIME = 600"
   ]
  },
  {
   "cell_type": "code",
   "execution_count": 3,
   "metadata": {
    "collapsed": true
   },
   "outputs": [],
   "source": [
    "def get_outdict(time, userid, status):\n",
    "    return {'time': time, 'userid': userid, 'Status': status}\n",
    "\n",
    "def message_status(env, userid):\n",
    "    outdict = get_outdict(env.now, userid, 'Queued')\n",
    "    print(json.dumps(outdict))\n",
    "    \n",
    "    yield env.timeout(np.random.uniform(low=MIN_QUEUE_TIME,\n",
    "                                        high=MAX_QUEUE_TIME))\n",
    "\n",
    "    outdict = get_outdict(env.now, userid, 'Sent')\n",
    "    print(json.dumps(outdict))\n",
    "    \n",
    "    yield env.timeout(np.random.uniform(low=MIN_DELIVERY_TIME,\n",
    "                                        high=MAX_DELIVERY_TIME))\n",
    "\n",
    "    outdict = get_outdict(env.now, userid, 'Delivered')\n",
    "    print(json.dumps(outdict))\n",
    "    \n",
    "    yield env.timeout(np.random.uniform(low=MIN_READ_TIME,\n",
    "                                        high=MAX_READ_TIME))\n",
    "\n",
    "    outdict = get_outdict(env.now, userid, 'Read')\n",
    "    print(json.dumps(outdict))"
   ]
  },
  {
   "cell_type": "code",
   "execution_count": 4,
   "metadata": {},
   "outputs": [
    {
     "name": "stdout",
     "output_type": "stream",
     "text": [
      "{\"userid\": 1, \"time\": 0, \"Status\": \"Queued\"}\n",
      "{\"userid\": 2, \"time\": 0, \"Status\": \"Queued\"}\n",
      "{\"userid\": 3, \"time\": 0, \"Status\": \"Queued\"}\n",
      "{\"userid\": 4, \"time\": 0, \"Status\": \"Queued\"}\n",
      "{\"userid\": 5, \"time\": 0, \"Status\": \"Queued\"}\n",
      "{\"userid\": 6, \"time\": 0, \"Status\": \"Queued\"}\n",
      "{\"userid\": 7, \"time\": 0, \"Status\": \"Queued\"}\n",
      "{\"userid\": 8, \"time\": 0, \"Status\": \"Queued\"}\n",
      "{\"userid\": 9, \"time\": 0, \"Status\": \"Queued\"}\n",
      "{\"userid\": 1, \"time\": 1.6904789593659402, \"Status\": \"Sent\"}\n",
      "{\"userid\": 4, \"time\": 3.6414495270389624, \"Status\": \"Sent\"}\n",
      "{\"userid\": 3, \"time\": 4.199239840553005, \"Status\": \"Sent\"}\n",
      "{\"userid\": 6, \"time\": 4.298913656361343, \"Status\": \"Sent\"}\n",
      "{\"userid\": 9, \"time\": 5.009273200185579, \"Status\": \"Sent\"}\n",
      "{\"userid\": 2, \"time\": 6.251029090618595, \"Status\": \"Sent\"}\n",
      "{\"userid\": 7, \"time\": 7.7489035609509616, \"Status\": \"Sent\"}\n",
      "{\"userid\": 5, \"time\": 8.246723903477147, \"Status\": \"Sent\"}\n",
      "{\"userid\": 8, \"time\": 8.316021648279747, \"Status\": \"Sent\"}\n",
      "{\"userid\": 6, \"time\": 20.53233482681646, \"Status\": \"Delivered\"}\n",
      "{\"userid\": 2, \"time\": 21.341225909053023, \"Status\": \"Delivered\"}\n",
      "{\"userid\": 1, \"time\": 22.874492946913566, \"Status\": \"Delivered\"}\n",
      "{\"userid\": 3, \"time\": 28.4981102449749, \"Status\": \"Delivered\"}\n",
      "{\"userid\": 8, \"time\": 32.587726784761834, \"Status\": \"Delivered\"}\n",
      "{\"userid\": 7, \"time\": 34.67475219548778, \"Status\": \"Delivered\"}\n",
      "{\"userid\": 9, \"time\": 39.80680315571698, \"Status\": \"Delivered\"}\n",
      "{\"userid\": 5, \"time\": 43.22672823718324, \"Status\": \"Delivered\"}\n",
      "{\"userid\": 4, \"time\": 48.210970655899466, \"Status\": \"Delivered\"}\n",
      "{\"userid\": 4, \"time\": 53.565263978918, \"Status\": \"Read\"}\n",
      "{\"userid\": 5, \"time\": 129.17484530977288, \"Status\": \"Read\"}\n",
      "{\"userid\": 6, \"time\": 159.71539995093036, \"Status\": \"Read\"}\n",
      "{\"userid\": 3, \"time\": 210.80289168074313, \"Status\": \"Read\"}\n",
      "{\"userid\": 1, \"time\": 238.10028338287506, \"Status\": \"Read\"}\n",
      "{\"userid\": 7, \"time\": 337.60867180056033, \"Status\": \"Read\"}\n",
      "{\"userid\": 8, \"time\": 458.2614460198782, \"Status\": \"Read\"}\n",
      "{\"userid\": 9, \"time\": 463.5834920092545, \"Status\": \"Read\"}\n",
      "{\"userid\": 2, \"time\": 515.3217872508587, \"Status\": \"Read\"}\n"
     ]
    }
   ],
   "source": [
    "# Setup and start the simulation\n",
    "\n",
    "for userid in range(1, NUM_RECIPIENTS):\n",
    "    message = message_status(env, userid)\n",
    "    env.process(message)\n",
    "\n",
    "env.run(until=SIM_DURATION)"
   ]
  },
  {
   "cell_type": "code",
   "execution_count": null,
   "metadata": {
    "collapsed": true
   },
   "outputs": [],
   "source": []
  }
 ],
 "metadata": {
  "kernelspec": {
   "display_name": "Python 3",
   "language": "python",
   "name": "python3"
  },
  "language_info": {
   "codemirror_mode": {
    "name": "ipython",
    "version": 3
   },
   "file_extension": ".py",
   "mimetype": "text/x-python",
   "name": "python",
   "nbconvert_exporter": "python",
   "pygments_lexer": "ipython3",
   "version": "3.5.3"
  }
 },
 "nbformat": 4,
 "nbformat_minor": 2
}
